{
 "cells": [
  {
   "cell_type": "code",
   "execution_count": 1,
   "metadata": {},
   "outputs": [],
   "source": [
    "import pandas as pd\n",
    "from rich import print\n",
    "from rich.progress import track"
   ]
  },
  {
   "cell_type": "code",
   "execution_count": 14,
   "metadata": {},
   "outputs": [],
   "source": [
    "agg_levels = pd.read_csv(\"https://lehd.ces.census.gov/data/schema/latest/label_agg_level.csv\")\n",
    "# Replace NaN with \"All\"\n",
    "agg_levels = agg_levels.fillna(\"All\")"
   ]
  },
  {
   "cell_type": "code",
   "execution_count": 36,
   "metadata": {},
   "outputs": [
    {
     "data": {
      "text/html": [
       "<div>\n",
       "<style scoped>\n",
       "    .dataframe tbody tr th:only-of-type {\n",
       "        vertical-align: middle;\n",
       "    }\n",
       "\n",
       "    .dataframe tbody tr th {\n",
       "        vertical-align: top;\n",
       "    }\n",
       "\n",
       "    .dataframe thead th {\n",
       "        text-align: right;\n",
       "    }\n",
       "</style>\n",
       "<table border=\"1\" class=\"dataframe\">\n",
       "  <thead>\n",
       "    <tr style=\"text-align: right;\">\n",
       "      <th></th>\n",
       "      <th>agg_level</th>\n",
       "      <th>worker_char</th>\n",
       "      <th>firm_char</th>\n",
       "      <th>firm_orig_char</th>\n",
       "      <th>geo_level</th>\n",
       "      <th>ind_level</th>\n",
       "    </tr>\n",
       "  </thead>\n",
       "  <tbody>\n",
       "    <tr>\n",
       "      <th>375</th>\n",
       "      <td>592913</td>\n",
       "      <td>Education</td>\n",
       "      <td>Destination [Metro-complete]</td>\n",
       "      <td>Origin [Metro-complete]</td>\n",
       "      <td>B</td>\n",
       "      <td>A</td>\n",
       "    </tr>\n",
       "    <tr>\n",
       "      <th>376</th>\n",
       "      <td>592914</td>\n",
       "      <td>Sex * Education</td>\n",
       "      <td>Destination [Metro-complete]</td>\n",
       "      <td>Origin [Metro-complete]</td>\n",
       "      <td>B</td>\n",
       "      <td>A</td>\n",
       "    </tr>\n",
       "    <tr>\n",
       "      <th>384</th>\n",
       "      <td>593169</td>\n",
       "      <td>Education</td>\n",
       "      <td>Destination [NAICS Sector * Metro-complete]</td>\n",
       "      <td>Origin [Metro-complete]</td>\n",
       "      <td>B</td>\n",
       "      <td>S</td>\n",
       "    </tr>\n",
       "    <tr>\n",
       "      <th>385</th>\n",
       "      <td>593170</td>\n",
       "      <td>Sex * Education</td>\n",
       "      <td>Destination [NAICS Sector * Metro-complete]</td>\n",
       "      <td>Origin [Metro-complete]</td>\n",
       "      <td>B</td>\n",
       "      <td>S</td>\n",
       "    </tr>\n",
       "    <tr>\n",
       "      <th>429</th>\n",
       "      <td>642065</td>\n",
       "      <td>Education</td>\n",
       "      <td>Destination [Metro-complete]</td>\n",
       "      <td>Origin [NAICS Sector * Metro-complete]</td>\n",
       "      <td>B</td>\n",
       "      <td>A</td>\n",
       "    </tr>\n",
       "    <tr>\n",
       "      <th>430</th>\n",
       "      <td>642066</td>\n",
       "      <td>Sex * Education</td>\n",
       "      <td>Destination [Metro-complete]</td>\n",
       "      <td>Origin [NAICS Sector * Metro-complete]</td>\n",
       "      <td>B</td>\n",
       "      <td>A</td>\n",
       "    </tr>\n",
       "    <tr>\n",
       "      <th>438</th>\n",
       "      <td>642321</td>\n",
       "      <td>Education</td>\n",
       "      <td>Destination [NAICS Sector * Metro-complete]</td>\n",
       "      <td>Origin [NAICS Sector * Metro-complete]</td>\n",
       "      <td>B</td>\n",
       "      <td>S</td>\n",
       "    </tr>\n",
       "    <tr>\n",
       "      <th>439</th>\n",
       "      <td>642322</td>\n",
       "      <td>Sex * Education</td>\n",
       "      <td>Destination [NAICS Sector * Metro-complete]</td>\n",
       "      <td>Origin [NAICS Sector * Metro-complete]</td>\n",
       "      <td>B</td>\n",
       "      <td>S</td>\n",
       "    </tr>\n",
       "  </tbody>\n",
       "</table>\n",
       "</div>"
      ],
      "text/plain": [
       "     agg_level      worker_char                                    firm_char  \\\n",
       "375     592913        Education                 Destination [Metro-complete]   \n",
       "376     592914  Sex * Education                 Destination [Metro-complete]   \n",
       "384     593169        Education  Destination [NAICS Sector * Metro-complete]   \n",
       "385     593170  Sex * Education  Destination [NAICS Sector * Metro-complete]   \n",
       "429     642065        Education                 Destination [Metro-complete]   \n",
       "430     642066  Sex * Education                 Destination [Metro-complete]   \n",
       "438     642321        Education  Destination [NAICS Sector * Metro-complete]   \n",
       "439     642322  Sex * Education  Destination [NAICS Sector * Metro-complete]   \n",
       "\n",
       "                             firm_orig_char geo_level ind_level  \n",
       "375                 Origin [Metro-complete]         B         A  \n",
       "376                 Origin [Metro-complete]         B         A  \n",
       "384                 Origin [Metro-complete]         B         S  \n",
       "385                 Origin [Metro-complete]         B         S  \n",
       "429  Origin [NAICS Sector * Metro-complete]         B         A  \n",
       "430  Origin [NAICS Sector * Metro-complete]         B         A  \n",
       "438  Origin [NAICS Sector * Metro-complete]         B         S  \n",
       "439  Origin [NAICS Sector * Metro-complete]         B         S  "
      ]
     },
     "execution_count": 36,
     "metadata": {},
     "output_type": "execute_result"
    }
   ],
   "source": [
    "agg_levels.loc[   (agg_levels.firm_char.str.contains(\"Metro-complete\") )\n",
    "                & (agg_levels.firm_orig_char.str.contains(\"Metro-complete\"))\n",
    "                & (agg_levels.worker_char.str.contains(\"Education\"))\n",
    "                & (agg_levels.j2jod == 1), \n",
    "                [\"agg_level\", \"worker_char\", 'firm_char', 'firm_orig_char', 'geo_level', 'ind_level']]"
   ]
  },
  {
   "cell_type": "code",
   "execution_count": 7,
   "metadata": {},
   "outputs": [],
   "source": [
    "cols = [\n",
    "    'geography',\n",
    "    'industry',\n",
    "    'education', \n",
    "    'year',\n",
    "    'quarter',\n",
    "    'agg_level',\n",
    "    'geography_orig',\n",
    "    'industry_orig',\n",
    "    'EE',\n",
    "    'AQHire',\n",
    "    'EES',\n",
    "    'AQHireS',\n",
    "    'EESEarn_Orig',\n",
    "    'EESEarn_Dest', \n",
    "    'AQHireSEarn_Orig',\n",
    "    'AQHireSEarn_Dest']\n",
    "    \n",
    "data_ = pd.read_csv(\"data/raw/j2jod_44060_sarhe_f_gb_ns_oslp_u.csv.gz\", \n",
    "compression=\"gzip\", low_memory=False, usecols=cols)"
   ]
  },
  {
   "cell_type": "code",
   "execution_count": 9,
   "metadata": {},
   "outputs": [],
   "source": [
    "data_ = data_[data_.agg_level == 642321]"
   ]
  },
  {
   "cell_type": "code",
   "execution_count": 10,
   "metadata": {},
   "outputs": [],
   "source": [
    "data_all = pd.DataFrame()\n",
    "data_educ = pd.DataFrame()\n",
    "data_ind = pd.DataFrame()\n",
    "data_educ_ind = pd.DataFrame()"
   ]
  },
  {
   "cell_type": "code",
   "execution_count": 18,
   "metadata": {},
   "outputs": [
    {
     "data": {
      "text/plain": [
       "array(['E5', 'E2', 'E3', 'E1', 'E4'], dtype=object)"
      ]
     },
     "execution_count": 18,
     "metadata": {},
     "output_type": "execute_result"
    }
   ],
   "source": [
    "data_.education.unique()"
   ]
  },
  {
   "cell_type": "code",
   "execution_count": 11,
   "metadata": {},
   "outputs": [],
   "source": [
    "data_all = pd.concat([data_all,  data_[ (data_.industry == \"00\") & (data_.education == \"E0\") ]])\n",
    "data_educ = pd.concat([data_educ,  data_[ (data_.industry == \"00\") & (data_.education != \"E0\") & (data_.education != \"E5\") ]])\n",
    "data_ind = pd.concat([data_ind,  data_[ (data_.industry != \"00\") & (data_.education == \"E0\") ]])\n",
    "data_educ_ind = pd.concat([data_educ_ind,  data_[ (data_.industry != \"00\") & (data_.education != \"E0\") & (data_.education != \"E5\") ]])"
   ]
  },
  {
   "cell_type": "code",
   "execution_count": 12,
   "metadata": {},
   "outputs": [
    {
     "data": {
      "text/html": [
       "<div>\n",
       "<style scoped>\n",
       "    .dataframe tbody tr th:only-of-type {\n",
       "        vertical-align: middle;\n",
       "    }\n",
       "\n",
       "    .dataframe tbody tr th {\n",
       "        vertical-align: top;\n",
       "    }\n",
       "\n",
       "    .dataframe thead th {\n",
       "        text-align: right;\n",
       "    }\n",
       "</style>\n",
       "<table border=\"1\" class=\"dataframe\">\n",
       "  <thead>\n",
       "    <tr style=\"text-align: right;\">\n",
       "      <th></th>\n",
       "      <th>geography</th>\n",
       "      <th>industry</th>\n",
       "      <th>education</th>\n",
       "      <th>year</th>\n",
       "      <th>quarter</th>\n",
       "      <th>agg_level</th>\n",
       "      <th>geography_orig</th>\n",
       "      <th>industry_orig</th>\n",
       "      <th>EE</th>\n",
       "      <th>AQHire</th>\n",
       "      <th>EES</th>\n",
       "      <th>AQHireS</th>\n",
       "      <th>EESEarn_Orig</th>\n",
       "      <th>EESEarn_Dest</th>\n",
       "      <th>AQHireSEarn_Orig</th>\n",
       "      <th>AQHireSEarn_Dest</th>\n",
       "    </tr>\n",
       "  </thead>\n",
       "  <tbody>\n",
       "  </tbody>\n",
       "</table>\n",
       "</div>"
      ],
      "text/plain": [
       "Empty DataFrame\n",
       "Columns: [geography, industry, education, year, quarter, agg_level, geography_orig, industry_orig, EE, AQHire, EES, AQHireS, EESEarn_Orig, EESEarn_Dest, AQHireSEarn_Orig, AQHireSEarn_Dest]\n",
       "Index: []"
      ]
     },
     "execution_count": 12,
     "metadata": {},
     "output_type": "execute_result"
    }
   ],
   "source": [
    "data_all"
   ]
  },
  {
   "cell_type": "code",
   "execution_count": 2,
   "metadata": {},
   "outputs": [
    {
     "data": {
      "text/html": [
       "<pre style=\"white-space:pre;overflow-x:auto;line-height:normal;font-family:Menlo,'DejaVu Sans Mono',consolas,'Courier New',monospace\">Processing <span style=\"color: #008080; text-decoration-color: #008080; font-weight: bold\">431</span> files<span style=\"color: #808000; text-decoration-color: #808000\">...</span>\n",
       "</pre>\n"
      ],
      "text/plain": [
       "Processing \u001b[1;36m431\u001b[0m files\u001b[33m...\u001b[0m\n"
      ]
     },
     "metadata": {},
     "output_type": "display_data"
    }
   ],
   "source": [
    "from j2jproc import process_file, file_list"
   ]
  },
  {
   "cell_type": "code",
   "execution_count": 4,
   "metadata": {},
   "outputs": [],
   "source": [
    "f = file_list[7]"
   ]
  },
  {
   "cell_type": "code",
   "execution_count": 5,
   "metadata": {},
   "outputs": [
    {
     "data": {
      "text/html": [
       "<pre style=\"white-space:pre;overflow-x:auto;line-height:normal;font-family:Menlo,'DejaVu Sans Mono',consolas,'Courier New',monospace\"><span style=\"color: #008000; text-decoration-color: #008000; font-weight: bold\">Processing j2jod_44060_sarhe_f_gb_ns_oslp_u.csv.gz...</span>\n",
       "</pre>\n"
      ],
      "text/plain": [
       "\u001b[1;32mProcessing j2jod_44060_sarhe_f_gb_ns_oslp_u.csv.gz\u001b[0m\u001b[1;32m...\u001b[0m\n"
      ]
     },
     "metadata": {},
     "output_type": "display_data"
    },
    {
     "data": {
      "text/html": [
       "<pre style=\"white-space:pre;overflow-x:auto;line-height:normal;font-family:Menlo,'DejaVu Sans Mono',consolas,'Courier New',monospace\"><span style=\"color: #000080; text-decoration-color: #000080; font-weight: bold\">j2jod_44060_sarhe_f_gb_ns_oslp_u.csv.gz processed.</span>\n",
       "</pre>\n"
      ],
      "text/plain": [
       "\u001b[1;34mj2jod_44060_sarhe_f_gb_ns_oslp_u.csv.gz processed.\u001b[0m\n"
      ]
     },
     "metadata": {},
     "output_type": "display_data"
    }
   ],
   "source": [
    "data = process_file(f)"
   ]
  },
  {
   "cell_type": "code",
   "execution_count": 6,
   "metadata": {},
   "outputs": [
    {
     "data": {
      "text/html": [
       "<div>\n",
       "<style scoped>\n",
       "    .dataframe tbody tr th:only-of-type {\n",
       "        vertical-align: middle;\n",
       "    }\n",
       "\n",
       "    .dataframe tbody tr th {\n",
       "        vertical-align: top;\n",
       "    }\n",
       "\n",
       "    .dataframe thead th {\n",
       "        text-align: right;\n",
       "    }\n",
       "</style>\n",
       "<table border=\"1\" class=\"dataframe\">\n",
       "  <thead>\n",
       "    <tr style=\"text-align: right;\">\n",
       "      <th></th>\n",
       "      <th>geography</th>\n",
       "      <th>industry</th>\n",
       "      <th>education</th>\n",
       "      <th>year</th>\n",
       "      <th>quarter</th>\n",
       "      <th>agg_level</th>\n",
       "      <th>geography_orig</th>\n",
       "      <th>industry_orig</th>\n",
       "      <th>EE</th>\n",
       "      <th>AQHire</th>\n",
       "      <th>EES</th>\n",
       "      <th>AQHireS</th>\n",
       "      <th>EESEarn_Orig</th>\n",
       "      <th>EESEarn_Dest</th>\n",
       "      <th>AQHireSEarn_Orig</th>\n",
       "      <th>AQHireSEarn_Dest</th>\n",
       "    </tr>\n",
       "  </thead>\n",
       "  <tbody>\n",
       "  </tbody>\n",
       "</table>\n",
       "</div>"
      ],
      "text/plain": [
       "Empty DataFrame\n",
       "Columns: [geography, industry, education, year, quarter, agg_level, geography_orig, industry_orig, EE, AQHire, EES, AQHireS, EESEarn_Orig, EESEarn_Dest, AQHireSEarn_Orig, AQHireSEarn_Dest]\n",
       "Index: []"
      ]
     },
     "execution_count": 6,
     "metadata": {},
     "output_type": "execute_result"
    }
   ],
   "source": [
    "data[0].head()"
   ]
  },
  {
   "cell_type": "code",
   "execution_count": 12,
   "metadata": {},
   "outputs": [],
   "source": [
    "dagta.to_csv(f\"./data/interim/educ_ind/{f[:-3]}\")"
   ]
  },
  {
   "cell_type": "code",
   "execution_count": 15,
   "metadata": {},
   "outputs": [
    {
     "data": {
      "text/html": [
       "<div>\n",
       "<style scoped>\n",
       "    .dataframe tbody tr th:only-of-type {\n",
       "        vertical-align: middle;\n",
       "    }\n",
       "\n",
       "    .dataframe tbody tr th {\n",
       "        vertical-align: top;\n",
       "    }\n",
       "\n",
       "    .dataframe thead th {\n",
       "        text-align: right;\n",
       "    }\n",
       "</style>\n",
       "<table border=\"1\" class=\"dataframe\">\n",
       "  <thead>\n",
       "    <tr style=\"text-align: right;\">\n",
       "      <th></th>\n",
       "      <th>Unnamed: 0</th>\n",
       "      <th>geography</th>\n",
       "      <th>industry</th>\n",
       "      <th>education</th>\n",
       "      <th>year</th>\n",
       "      <th>quarter</th>\n",
       "      <th>agg_level</th>\n",
       "      <th>geography_orig</th>\n",
       "      <th>industry_orig</th>\n",
       "      <th>EE</th>\n",
       "      <th>AQHire</th>\n",
       "      <th>EES</th>\n",
       "      <th>AQHireS</th>\n",
       "      <th>EESEarn_Orig</th>\n",
       "      <th>EESEarn_Dest</th>\n",
       "      <th>AQHireSEarn_Orig</th>\n",
       "      <th>AQHireSEarn_Dest</th>\n",
       "    </tr>\n",
       "  </thead>\n",
       "  <tbody>\n",
       "    <tr>\n",
       "      <th>0</th>\n",
       "      <td>17589530</td>\n",
       "      <td>46660</td>\n",
       "      <td>31-33</td>\n",
       "      <td>E3</td>\n",
       "      <td>2000</td>\n",
       "      <td>2</td>\n",
       "      <td>642321</td>\n",
       "      <td>8999</td>\n",
       "      <td>71</td>\n",
       "      <td>0.0</td>\n",
       "      <td>NaN</td>\n",
       "      <td>NaN</td>\n",
       "      <td>NaN</td>\n",
       "      <td>NaN</td>\n",
       "      <td>NaN</td>\n",
       "      <td>NaN</td>\n",
       "      <td>NaN</td>\n",
       "    </tr>\n",
       "    <tr>\n",
       "      <th>1</th>\n",
       "      <td>17589531</td>\n",
       "      <td>46660</td>\n",
       "      <td>44-45</td>\n",
       "      <td>E2</td>\n",
       "      <td>2000</td>\n",
       "      <td>2</td>\n",
       "      <td>642321</td>\n",
       "      <td>8999</td>\n",
       "      <td>71</td>\n",
       "      <td>0.0</td>\n",
       "      <td>NaN</td>\n",
       "      <td>NaN</td>\n",
       "      <td>NaN</td>\n",
       "      <td>NaN</td>\n",
       "      <td>NaN</td>\n",
       "      <td>NaN</td>\n",
       "      <td>NaN</td>\n",
       "    </tr>\n",
       "    <tr>\n",
       "      <th>2</th>\n",
       "      <td>17589532</td>\n",
       "      <td>46660</td>\n",
       "      <td>71</td>\n",
       "      <td>E1</td>\n",
       "      <td>2000</td>\n",
       "      <td>2</td>\n",
       "      <td>642321</td>\n",
       "      <td>8999</td>\n",
       "      <td>71</td>\n",
       "      <td>2.0</td>\n",
       "      <td>NaN</td>\n",
       "      <td>NaN</td>\n",
       "      <td>NaN</td>\n",
       "      <td>NaN</td>\n",
       "      <td>NaN</td>\n",
       "      <td>NaN</td>\n",
       "      <td>NaN</td>\n",
       "    </tr>\n",
       "    <tr>\n",
       "      <th>3</th>\n",
       "      <td>17589533</td>\n",
       "      <td>46660</td>\n",
       "      <td>71</td>\n",
       "      <td>E2</td>\n",
       "      <td>2000</td>\n",
       "      <td>2</td>\n",
       "      <td>642321</td>\n",
       "      <td>8999</td>\n",
       "      <td>71</td>\n",
       "      <td>0.0</td>\n",
       "      <td>NaN</td>\n",
       "      <td>NaN</td>\n",
       "      <td>NaN</td>\n",
       "      <td>NaN</td>\n",
       "      <td>NaN</td>\n",
       "      <td>NaN</td>\n",
       "      <td>NaN</td>\n",
       "    </tr>\n",
       "    <tr>\n",
       "      <th>4</th>\n",
       "      <td>17589534</td>\n",
       "      <td>46660</td>\n",
       "      <td>71</td>\n",
       "      <td>E3</td>\n",
       "      <td>2000</td>\n",
       "      <td>2</td>\n",
       "      <td>642321</td>\n",
       "      <td>8999</td>\n",
       "      <td>71</td>\n",
       "      <td>1.0</td>\n",
       "      <td>NaN</td>\n",
       "      <td>NaN</td>\n",
       "      <td>NaN</td>\n",
       "      <td>NaN</td>\n",
       "      <td>NaN</td>\n",
       "      <td>NaN</td>\n",
       "      <td>NaN</td>\n",
       "    </tr>\n",
       "  </tbody>\n",
       "</table>\n",
       "</div>"
      ],
      "text/plain": [
       "   Unnamed: 0  geography industry education  year  quarter  agg_level  \\\n",
       "0    17589530      46660    31-33        E3  2000        2     642321   \n",
       "1    17589531      46660    44-45        E2  2000        2     642321   \n",
       "2    17589532      46660       71        E1  2000        2     642321   \n",
       "3    17589533      46660       71        E2  2000        2     642321   \n",
       "4    17589534      46660       71        E3  2000        2     642321   \n",
       "\n",
       "   geography_orig industry_orig   EE  AQHire  EES  AQHireS  EESEarn_Orig  \\\n",
       "0            8999            71  0.0     NaN  NaN      NaN           NaN   \n",
       "1            8999            71  0.0     NaN  NaN      NaN           NaN   \n",
       "2            8999            71  2.0     NaN  NaN      NaN           NaN   \n",
       "3            8999            71  0.0     NaN  NaN      NaN           NaN   \n",
       "4            8999            71  1.0     NaN  NaN      NaN           NaN   \n",
       "\n",
       "   EESEarn_Dest  AQHireSEarn_Orig  AQHireSEarn_Dest  \n",
       "0           NaN               NaN               NaN  \n",
       "1           NaN               NaN               NaN  \n",
       "2           NaN               NaN               NaN  \n",
       "3           NaN               NaN               NaN  \n",
       "4           NaN               NaN               NaN  "
      ]
     },
     "execution_count": 15,
     "metadata": {},
     "output_type": "execute_result"
    }
   ],
   "source": [
    "pd.read_csv(f\"./data/interim/educ_ind/{f}\").head()"
   ]
  },
  {
   "cell_type": "code",
   "execution_count": null,
   "metadata": {},
   "outputs": [],
   "source": []
  }
 ],
 "metadata": {
  "kernelspec": {
   "display_name": "base",
   "language": "python",
   "name": "python3"
  },
  "language_info": {
   "codemirror_mode": {
    "name": "ipython",
    "version": 3
   },
   "file_extension": ".py",
   "mimetype": "text/x-python",
   "name": "python",
   "nbconvert_exporter": "python",
   "pygments_lexer": "ipython3",
   "version": "3.9.13 (main, Aug 25 2022, 23:29:09) \n[GCC 11.2.0]"
  },
  "orig_nbformat": 4,
  "vscode": {
   "interpreter": {
    "hash": "caf1c2fcf97217de91eafa76b907d50f9ea378f5ffbee7f571142d119bb6a771"
   }
  }
 },
 "nbformat": 4,
 "nbformat_minor": 2
}
